{
 "cells": [
  {
   "cell_type": "code",
   "execution_count": 123,
   "id": "ebeeca3f",
   "metadata": {},
   "outputs": [],
   "source": [
    "import os\n",
    "import logging\n",
    "from slack_sdk import WebClient\n",
    "from datetime import timedelta, date, datetime\n",
    "import json\n",
    "\n",
    "DEFAULT_VAL_FREQ = 6\n",
    "FILEPATH = \"../\"\n"
   ]
  },
  {
   "cell_type": "code",
   "execution_count": 124,
   "id": "b608b1e2",
   "metadata": {},
   "outputs": [],
   "source": [
    "def convert_to_date_and_delta(val_date, val_freq):\n",
    "    \"Converts validation date string to datetime and validation frequency string (months) to timedelta.\"\n",
    "    try:\n",
    "        val_date_conv = datetime.strptime(val_date.rstrip('\\n'), '%Y-%m-%d').date()\n",
    "        val_freq_conv = timedelta(days=int(val_freq) * 30.4)\n",
    "        return val_date_conv, val_freq_conv\n",
    "    except ValueError:\n",
    "        # handles the case where validation format is incorrect\n",
    "        return None, None\n"
   ]
  },
  {
   "cell_type": "code",
   "execution_count": 125,
   "id": "e066d514",
   "metadata": {},
   "outputs": [],
   "source": [
    "def get_prod_cat_ref():\n",
    "\n",
    "    product_categories = {}\n",
    "\n",
    "    # Load the menu file\n",
    "    with open(FILEPATH + 'menu/navigation.json', 'r') as file:\n",
    "        data = json.load(file)  # Parse the JSON content into a Python dictionary or list\n",
    "\n",
    "        for grouping in data:\n",
    "            for category in grouping[\"items\"]:\n",
    "                category_label = category[\"label\"]\n",
    "                for product in category[\"items\"]:\n",
    "                    product_label = product[\"slug\"]\n",
    "                    product_categories[product_label] = category_label\n",
    "\n",
    "    return(product_categories)"
   ]
  },
  {
   "cell_type": "code",
   "execution_count": 126,
   "id": "57f51938",
   "metadata": {},
   "outputs": [],
   "source": [
    "def needs_review(val_date, val_freq):\n",
    "    \"Returns true if doc needs to be reviewed, based on val date and frequency\"\n",
    "    val_date_conv, val_freq_conv = convert_to_date_and_delta(val_date, val_freq)\n",
    "    if val_date_conv is None or val_freq_conv is None:\n",
    "        return False\n",
    "    today = date.today()\n",
    "    # calculate how long since doc was reviewed, in days\n",
    "    delta = today - val_date_conv\n",
    "    # return true or false depending on evaluation of data\n",
    "    return delta >= val_freq_conv\n"
   ]
  },
  {
   "cell_type": "code",
   "execution_count": 127,
   "id": "5fed7ca2",
   "metadata": {},
   "outputs": [],
   "source": [
    "def extract_metadata(filepath):\n",
    "    \"Extracts validation date and validation frequency from a document.\"\n",
    "    with open(filepath) as doc:\n",
    "        meta_limiters = 0\n",
    "        has_val_date = False\n",
    "        val_freq = DEFAULT_VAL_FREQ\n",
    "\n",
    "        for line in doc:\n",
    "            if \"validation: \" in line:\n",
    "                val_date = line.split(\": \", 1)[1].strip()\n",
    "                has_val_date = True\n",
    "            if \"validation_frequency:\" in line:\n",
    "                val_freq = line.split(\": \", 1)[1].strip()\n",
    "            if \"---\" in line:\n",
    "                meta_limiters += 1\n",
    "            # once two --- strings are found, it is the end of the meta section, stop checking file\n",
    "            if meta_limiters >= 2:\n",
    "                break\n",
    "                \n",
    "    return has_val_date, val_date if has_val_date else None, val_freq\n"
   ]
  },
  {
   "cell_type": "code",
   "execution_count": 128,
   "id": "30073849",
   "metadata": {},
   "outputs": [],
   "source": [
    "def process_files(directory):\n",
    "    \"Processes files in the content directory to check for those needing review.\"\n",
    "    print(\"Processing files to check for those needing review\")\n",
    "    docs_to_review=[]\n",
    "    for subdir, dirs, files in os.walk(directory):\n",
    "        for file in files:\n",
    "            filepath = os.path.join(subdir, file)      \n",
    "            if filepath.endswith(\".mdx\"):\n",
    "                has_val_date, val_date, val_freq = extract_metadata(filepath)\n",
    "                if has_val_date and needs_review(val_date, val_freq):\n",
    "                    docs_to_review.append(filepath)\n",
    "    return docs_to_review\n"
   ]
  },
  {
   "cell_type": "code",
   "execution_count": 148,
   "id": "98e4f0c0",
   "metadata": {},
   "outputs": [],
   "source": [
    "def get_doc_cat_name(filepath, prod_cat_ref):\n",
    "    \"Returns a document-to-review's category and tidied-up filepath\"\n",
    "    trimmed_filepath = filepath[2:-4]\n",
    "    filepath_list = trimmed_filepath.split(\"/\")\n",
    "    print(\"list\", filepath_list)\n",
    "\n",
    "    if filepath_list[1] == \"tutorials\":\n",
    "        category = filepath_list[1]\n",
    "    elif filepath_list[1] == \"faq\":\n",
    "        category = filepath_list[2]\n",
    "    else:\n",
    "        print(\"CAT HERE\", prod_cat_ref[filepath_list[2]])\n",
    "        category = prod_cat_ref[filepath_list[2]]\n",
    "    \n",
    "    return category, trimmed_filepath\n"
   ]
  },
  {
   "cell_type": "code",
   "execution_count": 149,
   "id": "8109b61f",
   "metadata": {},
   "outputs": [],
   "source": [
    "def organize_docs_by_category(docs_to_review):\n",
    "    \"Organizes docs to review by category into a dictionary.\"\n",
    "    print(\"Organizing docs by category\")\n",
    "    dict_by_cat = {}\n",
    "    # one shot: make a dict of all products and their categories, based on menu file\n",
    "    prod_cat_ref = get_prod_cat_ref()\n",
    "    print(\"PROD CAT REF\", prod_cat_ref)\n",
    "    for filepath in docs_to_review:\n",
    "        category, trimmed_filepath = get_doc_cat_name(filepath, prod_cat_ref)\n",
    "\n",
    "        if category not in dict_by_cat:\n",
    "            dict_by_cat[category] = [trimmed_filepath]\n",
    "        else:\n",
    "            dict_by_cat[category].append(trimmed_filepath)\n",
    "    \n",
    "    # sort the dictionary alphabetically by category\n",
    "    dict_by_cat_sorted = {key: value for key, value in sorted(dict_by_cat.items())}\n",
    "\n",
    "    return dict_by_cat_sorted\n"
   ]
  },
  {
   "cell_type": "code",
   "execution_count": 150,
   "id": "5d7de87b",
   "metadata": {},
   "outputs": [],
   "source": [
    "def prep_message(docs_to_review_by_cat):\n",
    "    \"Prepares the message to sent to the Slack channel, containing the docs to review\"\n",
    "    print(\"Preparing message\")\n",
    "    message = \":wave: Hi doc team, here are some docs to review: \\n \\n\"\n",
    "\n",
    "    for key in docs_to_review_by_cat:\n",
    "        message += \"*\" + key.title() + \"*\" + \"\\n\"\n",
    "        for doc in docs_to_review_by_cat[key]:\n",
    "            message += doc + \"\\n\"\n",
    "        message += \"\\n\"\n",
    "    print(message)\n",
    "    return(message)"
   ]
  },
  {
   "cell_type": "code",
   "execution_count": 151,
   "id": "35e064c8",
   "metadata": {},
   "outputs": [],
   "source": [
    "def send_message(message):\n",
    "    \"Sends the message containing docs to review to the Slack channel\"\n",
    "    print(\"Sending message\")\n",
    "    client = WebClient(token=os.environ['SLACK_BOT_TOKEN'])\n",
    "    client.chat_postMessage(\n",
    "        channel = \"#review-doc\",\n",
    "        text = message,\n",
    "        username = \"DocReviewBot\"\n",
    "    )"
   ]
  },
  {
   "cell_type": "code",
   "execution_count": 152,
   "id": "959e926b",
   "metadata": {},
   "outputs": [
    {
     "name": "stdout",
     "output_type": "stream",
     "text": [
      "Processing files to check for those needing review\n",
      "Organizing docs by category\n",
      "PROD CAT REF {'account': 'Dedibox Console', 'billing': 'Account & Billing', 'organizations-and-projects': 'Security & Identity', 'iam': 'Security & Identity', 'audit-trail': 'Security & Identity', 'secret-manager': 'Security & Identity', 'managed-inference': 'AI & Data', 'generative-apis': 'AI & Data', 'apple-silicon': 'Bare Metal', 'elastic-metal': 'Bare Metal', 'dedibox': 'Bare Metal', 'instances': 'Compute', 'gpu': 'Compute', 'kubernetes': 'Containers', 'container-registry': 'Containers', 'scaleway-cli': 'Developer Tools', 'scaleway-sdk': 'Developer Tools', 'terraform': 'Developer Tools', 'postgresql-and-mysql': 'Managed Databases', 'redis': 'Managed Databases', 'mongodb': 'Managed Databases', 'transactional-email': 'Managed Services', 'iot-hub': 'Managed Services', 'webhosting': 'Managed Services', 'data-lab': 'Managed Services', 'vpc': 'Network', 'ipam': 'Network', 'public-gateways': 'Network', 'load-balancer': 'Network', 'edge-services': 'Network', 'domains-and-dns': 'Network', 'cockpit': 'Observability', 'functions': 'Serverless', 'containers': 'Serverless', 'jobs': 'Serverless', 'messaging': 'Serverless', 'sql-databases': 'Serverless', 'object-storage': 'Storage', 'block': 'Storage', 'classic-hosting': 'Dedibox Console', 'cpanel-hosting': 'Dedibox Console', 'dedicated-servers': 'Dedibox Servers', 'vps': 'Dedibox Servers', 'hardware': 'Dedibox Servers', 'kvm-over-ip': 'Dedibox Servers', 'dedibox-network': 'Dedibox Network', 'domains': 'Dedibox Network', 'ip-failover': 'Dedibox Network', 'rpn': 'Dedibox Network', 'ipv6': 'Dedibox Network', 'dns': 'Dedibox Network', 'partner-space': 'Partners', 'environmental-footprint': 'Environmental Footprint'}\n",
      "list ['', 'pages', 'transactional-email', 'how-to', 'manage-email-activity']\n",
      "CAT HERE Managed Services\n",
      "list ['', 'pages', 'sql-databases', 'reference-content', 'planned-maintenance']\n",
      "CAT HERE Serverless\n",
      "list ['', 'pages', 'sql-databases', 'troubleshooting', 'maximum-prepared-statements-reached']\n",
      "CAT HERE Serverless\n",
      "list ['', 'pages', 'object', 'reference-content', 'optimize-object-storage-performance']\n"
     ]
    },
    {
     "ename": "KeyError",
     "evalue": "'object'",
     "output_type": "error",
     "traceback": [
      "\u001b[0;31m---------------------------------------------------------------------------\u001b[0m",
      "\u001b[0;31mKeyError\u001b[0m                                  Traceback (most recent call last)",
      "Cell \u001b[0;32mIn[152], line 10\u001b[0m\n\u001b[1;32m      6\u001b[0m     \u001b[38;5;66;03m# if os.environ.get(\"DRY_RUN\") != \"true\":\u001b[39;00m\n\u001b[1;32m      7\u001b[0m         \u001b[38;5;66;03m# send_message(message)\u001b[39;00m\n\u001b[1;32m      9\u001b[0m \u001b[38;5;28;01mif\u001b[39;00m \u001b[38;5;18m__name__\u001b[39m \u001b[38;5;241m==\u001b[39m \u001b[38;5;124m\"\u001b[39m\u001b[38;5;124m__main__\u001b[39m\u001b[38;5;124m\"\u001b[39m:\n\u001b[0;32m---> 10\u001b[0m     \u001b[43mmain\u001b[49m\u001b[43m(\u001b[49m\u001b[43m)\u001b[49m\n",
      "Cell \u001b[0;32mIn[152], line 3\u001b[0m, in \u001b[0;36mmain\u001b[0;34m()\u001b[0m\n\u001b[1;32m      1\u001b[0m \u001b[38;5;28;01mdef\u001b[39;00m \u001b[38;5;21mmain\u001b[39m():\n\u001b[1;32m      2\u001b[0m     docs_to_review \u001b[38;5;241m=\u001b[39m process_files(FILEPATH)\n\u001b[0;32m----> 3\u001b[0m     docs_to_review_by_cat \u001b[38;5;241m=\u001b[39m \u001b[43morganize_docs_by_category\u001b[49m\u001b[43m(\u001b[49m\u001b[43mdocs_to_review\u001b[49m\u001b[43m)\u001b[49m\n\u001b[1;32m      4\u001b[0m     message \u001b[38;5;241m=\u001b[39m prep_message(docs_to_review_by_cat)\n\u001b[1;32m      5\u001b[0m     \u001b[38;5;28mprint\u001b[39m(message)\n",
      "Cell \u001b[0;32mIn[149], line 9\u001b[0m, in \u001b[0;36morganize_docs_by_category\u001b[0;34m(docs_to_review)\u001b[0m\n\u001b[1;32m      7\u001b[0m \u001b[38;5;28mprint\u001b[39m(\u001b[38;5;124m\"\u001b[39m\u001b[38;5;124mPROD CAT REF\u001b[39m\u001b[38;5;124m\"\u001b[39m, prod_cat_ref)\n\u001b[1;32m      8\u001b[0m \u001b[38;5;28;01mfor\u001b[39;00m filepath \u001b[38;5;129;01min\u001b[39;00m docs_to_review:\n\u001b[0;32m----> 9\u001b[0m     category, trimmed_filepath \u001b[38;5;241m=\u001b[39m \u001b[43mget_doc_cat_name\u001b[49m\u001b[43m(\u001b[49m\u001b[43mfilepath\u001b[49m\u001b[43m,\u001b[49m\u001b[43m \u001b[49m\u001b[43mprod_cat_ref\u001b[49m\u001b[43m)\u001b[49m\n\u001b[1;32m     11\u001b[0m     \u001b[38;5;28;01mif\u001b[39;00m category \u001b[38;5;129;01mnot\u001b[39;00m \u001b[38;5;129;01min\u001b[39;00m dict_by_cat:\n\u001b[1;32m     12\u001b[0m         dict_by_cat[category] \u001b[38;5;241m=\u001b[39m [trimmed_filepath]\n",
      "Cell \u001b[0;32mIn[148], line 12\u001b[0m, in \u001b[0;36mget_doc_cat_name\u001b[0;34m(filepath, prod_cat_ref)\u001b[0m\n\u001b[1;32m     10\u001b[0m     category \u001b[38;5;241m=\u001b[39m filepath_list[\u001b[38;5;241m2\u001b[39m]\n\u001b[1;32m     11\u001b[0m \u001b[38;5;28;01melse\u001b[39;00m:\n\u001b[0;32m---> 12\u001b[0m     \u001b[38;5;28mprint\u001b[39m(\u001b[38;5;124m\"\u001b[39m\u001b[38;5;124mCAT HERE\u001b[39m\u001b[38;5;124m\"\u001b[39m, \u001b[43mprod_cat_ref\u001b[49m\u001b[43m[\u001b[49m\u001b[43mfilepath_list\u001b[49m\u001b[43m[\u001b[49m\u001b[38;5;241;43m2\u001b[39;49m\u001b[43m]\u001b[49m\u001b[43m]\u001b[49m)\n\u001b[1;32m     13\u001b[0m     category \u001b[38;5;241m=\u001b[39m prod_cat_ref[filepath_list[\u001b[38;5;241m2\u001b[39m]]\n\u001b[1;32m     15\u001b[0m \u001b[38;5;28;01mreturn\u001b[39;00m category, trimmed_filepath\n",
      "\u001b[0;31mKeyError\u001b[0m: 'object'"
     ]
    }
   ],
   "source": [
    "def main():\n",
    "    docs_to_review = process_files(FILEPATH)\n",
    "    docs_to_review_by_cat = organize_docs_by_category(docs_to_review)\n",
    "    message = prep_message(docs_to_review_by_cat)\n",
    "    print(message)\n",
    "    # if os.environ.get(\"DRY_RUN\") != \"true\":\n",
    "        # send_message(message)\n",
    "\n",
    "if __name__ == \"__main__\":\n",
    "    main()"
   ]
  },
  {
   "cell_type": "code",
   "execution_count": 153,
   "id": "c372abee",
   "metadata": {},
   "outputs": [],
   "source": [
    "# Next; deal with the products that aren't correctly renamed"
   ]
  },
  {
   "cell_type": "code",
   "execution_count": null,
   "id": "9206c960",
   "metadata": {},
   "outputs": [],
   "source": []
  }
 ],
 "metadata": {
  "kernelspec": {
   "display_name": "Python 3 (ipykernel)",
   "language": "python",
   "name": "python3"
  },
  "language_info": {
   "codemirror_mode": {
    "name": "ipython",
    "version": 3
   },
   "file_extension": ".py",
   "mimetype": "text/x-python",
   "name": "python",
   "nbconvert_exporter": "python",
   "pygments_lexer": "ipython3",
   "version": "3.10.9"
  }
 },
 "nbformat": 4,
 "nbformat_minor": 5
}
